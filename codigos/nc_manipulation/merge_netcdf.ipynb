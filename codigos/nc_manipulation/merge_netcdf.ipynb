{
 "cells": [
  {
   "cell_type": "code",
   "execution_count": 17,
   "metadata": {},
   "outputs": [],
   "source": [
    "import geopandas as gpd"
   ]
  },
  {
   "cell_type": "code",
   "execution_count": 23,
   "metadata": {},
   "outputs": [],
   "source": [
    "raster=rs.open('/home/oggm/Desktop/OGGM/SIG/DEM/chile005_alligned.tif')"
   ]
  },
  {
   "cell_type": "code",
   "execution_count": 27,
   "metadata": {},
   "outputs": [
    {
     "data": {
      "text/plain": [
       "{'driver': 'GTiff', 'dtype': 'int16', 'nodata': -32768.0, 'width': 221, 'height': 821, 'count': 1, 'crs': CRS.from_epsg(4326), 'transform': Affine(0.05000000000000005, 0.0, -77.025,\n",
       "       0.0, -0.049999999999999996, -15.975), 'blockysize': 18, 'tiled': False, 'interleave': 'band'}"
      ]
     },
     "execution_count": 27,
     "metadata": {},
     "output_type": "execute_result"
    }
   ],
   "source": [
    "raster.meta\n",
    "raster.profile"
   ]
  }
 ],
 "metadata": {
  "kernelspec": {
   "display_name": "oggm_env15",
   "language": "python",
   "name": "python3"
  },
  "language_info": {
   "codemirror_mode": {
    "name": "ipython",
    "version": 3
   },
   "file_extension": ".py",
   "mimetype": "text/x-python",
   "name": "python",
   "nbconvert_exporter": "python",
   "pygments_lexer": "ipython3",
   "version": "3.9.13"
  },
  "orig_nbformat": 4
 },
 "nbformat": 4,
 "nbformat_minor": 2
}
